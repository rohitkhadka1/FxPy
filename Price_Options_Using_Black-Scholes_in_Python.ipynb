{
 "cells": [
  {
   "cell_type": "code",
   "execution_count": 10,
   "id": "28b27b76",
   "metadata": {},
   "outputs": [],
   "source": [
    "# Import necessary libraries\n",
    "import numpy as np\n",
    "import yfinance as yf\n",
    "from scipy.stats import norm"
   ]
  },
  {
   "cell_type": "code",
   "execution_count": 3,
   "id": "73998551",
   "metadata": {},
   "outputs": [],
   "source": [
    "# set all the variables\n",
    "symbol = \"PLTR\"\n",
    "option_type = \"call\"\n",
    "risk_free_rate = 0\n",
    "time_to_expiry = 81/ 365\n",
    "strike_price = 140"
   ]
  },
  {
   "cell_type": "code",
   "execution_count": 6,
   "id": "2bce1186",
   "metadata": {},
   "outputs": [
    {
     "name": "stderr",
     "output_type": "stream",
     "text": [
      "C:\\Users\\rohit\\AppData\\Local\\Temp\\ipykernel_27784\\800355049.py:2: FutureWarning: YF.download() has changed argument auto_adjust default to True\n",
      "  data = yf.download(symbol, period = \"60d\", interval = \"1d\", progress = False)\n"
     ]
    }
   ],
   "source": [
    "# Pull and prepare the market \n",
    "data = yf.download(symbol, period = \"60d\", interval = \"1d\", progress = False)\n",
    "close_prices = data[\"Close\"]\n",
    "spot_price = close_prices.iat[-1,0]\n",
    "returns = np.log(close_prices.PLTR / close_prices.PLTR.shift(1)).dropna()\n",
    "volatility = np.std(returns) * np.sqrt(252)\n",
    "\n",
    "\n"
   ]
  },
  {
   "cell_type": "code",
   "execution_count": 7,
   "id": "ea47b7f0",
   "metadata": {},
   "outputs": [],
   "source": [
    "# calculate black - scholes parameters \n",
    "d1 = (np.log(spot_price / strike_price) + (risk_free_rate + 0.5 * volatility ** 2) * time_to_expiry) / (volatility * np.sqrt(time_to_expiry))\n",
    "d2 = d1 - volatility * np.sqrt(time_to_expiry)"
   ]
  },
  {
   "cell_type": "code",
   "execution_count": 11,
   "id": "4d767cdb",
   "metadata": {},
   "outputs": [],
   "source": [
    "# Compute option price and greeks \n",
    "if option_type == \"call\":\n",
    "    option_price = spot_price * norm.cdf(d1) - strike_price * np.exp(-risk_free_rate * time_to_expiry) * norm.cdf(d2)\n",
    "    delta = norm.cdf(d1)\n",
    "else:\n",
    "    option_price = strike_price * np.exp(-risk_free_rate * time_to_expiry) * norm.cdf(-d2) - spot_price * norm.cdf(-d1)\n",
    "    delta = -norm.cdf(-d1)\n",
    "\n",
    "gamma = norm.pdf(d1) / (spot_price * volatility * np.sqrt(time_to_expiry))"
   ]
  },
  {
   "cell_type": "code",
   "execution_count": 12,
   "id": "90738e9a",
   "metadata": {},
   "outputs": [
    {
     "data": {
      "text/plain": [
       "(np.float64(15.902605697977513),\n",
       " np.float64(0.5200140999370128),\n",
       " np.float64(0.008688188736974346))"
      ]
     },
     "execution_count": 12,
     "metadata": {},
     "output_type": "execute_result"
    }
   ],
   "source": [
    "option_price, delta, gamma"
   ]
  },
  {
   "cell_type": "markdown",
   "id": "d5548b67",
   "metadata": {},
   "source": [
    "Option Price: ~$15.90\n",
    "This represents the theoretical fair value of the option. For a call option, this is the premium you would pay to purchase the right to buy the underlying asset at the strike price.\n",
    "\n",
    "Delta: ~0.52\n",
    "\n",
    "Meaning: For every $1 increase in the underlying asset price, the option price will increase by approximately $0.52\n",
    "Interpretation: This suggests the option is slightly in-the-money or at-the-money since delta is close to 0.5\n",
    "\n",
    "Gamma: ~0.0087\n",
    "\n",
    "Meaning: For every $1 increase in the underlying asset price, the delta will increase by approximately 0.0087"
   ]
  }
 ],
 "metadata": {
  "kernelspec": {
   "display_name": "Python 3",
   "language": "python",
   "name": "python3"
  },
  "language_info": {
   "codemirror_mode": {
    "name": "ipython",
    "version": 3
   },
   "file_extension": ".py",
   "mimetype": "text/x-python",
   "name": "python",
   "nbconvert_exporter": "python",
   "pygments_lexer": "ipython3",
   "version": "3.13.5"
  }
 },
 "nbformat": 4,
 "nbformat_minor": 5
}
